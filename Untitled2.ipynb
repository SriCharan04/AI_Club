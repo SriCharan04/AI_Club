{
 "cells": [
  {
   "cell_type": "code",
   "execution_count": 1,
   "metadata": {},
   "outputs": [
    {
     "ename": "ModuleNotFoundError",
     "evalue": "No module named 'torch'",
     "output_type": "error",
     "traceback": [
      "\u001b[0;31m---------------------------------------------------------------------------\u001b[0m",
      "\u001b[0;31mModuleNotFoundError\u001b[0m                       Traceback (most recent call last)",
      "\u001b[0;32m<ipython-input-1-ba7cdd8af4b8>\u001b[0m in \u001b[0;36m<module>\u001b[0;34m\u001b[0m\n\u001b[0;32m----> 1\u001b[0;31m \u001b[0;32mimport\u001b[0m \u001b[0mtorch\u001b[0m\u001b[0;34m\u001b[0m\u001b[0;34m\u001b[0m\u001b[0m\n\u001b[0m\u001b[1;32m      2\u001b[0m \u001b[0;31m# Initializing the Parameters and the Variables\u001b[0m\u001b[0;34m\u001b[0m\u001b[0;34m\u001b[0m\u001b[0;34m\u001b[0m\u001b[0m\n\u001b[1;32m      3\u001b[0m \u001b[0;31m# y = a*x + b\u001b[0m\u001b[0;34m\u001b[0m\u001b[0;34m\u001b[0m\u001b[0;34m\u001b[0m\u001b[0m\n\u001b[1;32m      4\u001b[0m \u001b[0;34m\u001b[0m\u001b[0m\n\u001b[1;32m      5\u001b[0m \u001b[0mx\u001b[0m \u001b[0;34m=\u001b[0m \u001b[0mtorch\u001b[0m\u001b[0;34m.\u001b[0m\u001b[0mrand\u001b[0m\u001b[0;34m(\u001b[0m\u001b[0;34m(\u001b[0m\u001b[0;36m5\u001b[0m\u001b[0;34m,\u001b[0m \u001b[0;36m3\u001b[0m\u001b[0;34m)\u001b[0m\u001b[0;34m,\u001b[0m \u001b[0mrequires_grad\u001b[0m\u001b[0;34m=\u001b[0m\u001b[0;32mFalse\u001b[0m\u001b[0;34m)\u001b[0m\u001b[0;34m\u001b[0m\u001b[0;34m\u001b[0m\u001b[0m\n",
      "\u001b[0;31mModuleNotFoundError\u001b[0m: No module named 'torch'"
     ]
    }
   ],
   "source": [
    "import torch\n",
    "# Initializing the Parameters and the Variables\n",
    "# y = a*x + b\n",
    "\n",
    "x = torch.rand((5, 3), requires_grad=False)\n",
    "\n",
    "a = torch.rand((1, 3), requires_grad=True)\n",
    "b = torch.rand((1, 1), requires_grad=True)\n",
    "\n",
    "a_p = torch.rand((1, 5), requires_grad=True)\n",
    "b_p = torch.rand((2, 1), requires_grad=True)\n",
    "\n",
    "# Forward Pass from Input Layer to Hidden Layer\n",
    "y_pred1 = x@a.T + b\n",
    "activation_1= torch.nn.functional.sigmoid(y_pred1)\n",
    "\n",
    "print(activation_1)\n",
    "print(a_p)\n",
    "\n",
    "# Forward Pass from Hidden layer to Output Layer\n",
    "y_pred2 = activation_1.t()@a_p.T + b_p\n",
    "activation_2= torch.nn.functional.sigmoid(y_pred2)\n",
    "print(activation_2)\n",
    "\n",
    "# Computing Loss\n",
    "loss = torch.mean((b_p-activation_2)**2)\n",
    "print(loss.item())\n",
    "\n",
    "loss.backward()\n",
    "\n",
    "#Updating Gradients, using the Loss\n",
    "with torch.no_grad():\n",
    "    a_p -= 0.01*a_p.grad\n",
    "    b_p -= 0.01*b_p.grad"
   ]
  },
  {
   "cell_type": "code",
   "execution_count": null,
   "metadata": {},
   "outputs": [],
   "source": []
  }
 ],
 "metadata": {
  "kernelspec": {
   "display_name": "Python 3",
   "language": "python",
   "name": "python3"
  },
  "language_info": {
   "codemirror_mode": {
    "name": "ipython",
    "version": 3
   },
   "file_extension": ".py",
   "mimetype": "text/x-python",
   "name": "python",
   "nbconvert_exporter": "python",
   "pygments_lexer": "ipython3",
   "version": "3.8.10"
  }
 },
 "nbformat": 4,
 "nbformat_minor": 4
}
