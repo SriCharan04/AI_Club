#Step - 1 Start
import brian2
import numpy as np
import matplotlib as plt
tau=10*ms
v_rest=-80*mV
v_thr=-60*mV
v_re=-80*mV
i_in=2.5*nA
D_E='''
R : ohm
dv/dt = -(v-v_rest+(i_in*R)/tau: volt (unless refractory)
'''
#Step - 1 Ends
#Step - 2 Starts
neuron=NeuronGroup(1, D_E, threshold='''v>v_thr''', reset='''v=v_re''', refractory=5*ms)
neuron.v=v_rest
neuron.R=1*Kohm
#Step-2 Ends
#Step-3 Starts
spike=SpikeMonitor(neuron)
potential=StateMonitor(neuron,'v',True)
run(200*ms)
#Step-3 Ends
#Step-4 Starts
pot_var= np.var(potential[0])
spike_var=np.var(spike[0])

plt.bar(['Membrane Potential','Spike'],[pot_var/mV**2, spike_var])

plt.ylabel('Variances')
plt.show()
#Step -4 Ends
