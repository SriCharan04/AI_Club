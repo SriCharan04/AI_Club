{
 "cells": [
  {
   "cell_type": "code",
   "execution_count": 1,
   "metadata": {},
   "outputs": [
    {
     "ename": "ModuleNotFoundError",
     "evalue": "No module named 'brian2'",
     "output_type": "error",
     "traceback": [
      "\u001b[0;31m---------------------------------------------------------------------------\u001b[0m",
      "\u001b[0;31mModuleNotFoundError\u001b[0m                       Traceback (most recent call last)",
      "\u001b[0;32m<ipython-input-1-ef93b1051897>\u001b[0m in \u001b[0;36m<module>\u001b[0;34m\u001b[0m\n\u001b[1;32m      1\u001b[0m \u001b[0;31m#Step - 1 Start\u001b[0m\u001b[0;34m\u001b[0m\u001b[0;34m\u001b[0m\u001b[0;34m\u001b[0m\u001b[0m\n\u001b[0;32m----> 2\u001b[0;31m \u001b[0;32mimport\u001b[0m \u001b[0mbrian2\u001b[0m\u001b[0;34m\u001b[0m\u001b[0;34m\u001b[0m\u001b[0m\n\u001b[0m\u001b[1;32m      3\u001b[0m \u001b[0;32mimport\u001b[0m \u001b[0mnumpy\u001b[0m \u001b[0;32mas\u001b[0m \u001b[0mnp\u001b[0m\u001b[0;34m\u001b[0m\u001b[0;34m\u001b[0m\u001b[0m\n\u001b[1;32m      4\u001b[0m \u001b[0;32mimport\u001b[0m \u001b[0mmatplotlib\u001b[0m \u001b[0;32mas\u001b[0m \u001b[0mplt\u001b[0m\u001b[0;34m\u001b[0m\u001b[0;34m\u001b[0m\u001b[0m\n\u001b[1;32m      5\u001b[0m \u001b[0mtau\u001b[0m\u001b[0;34m=\u001b[0m\u001b[0;36m10\u001b[0m\u001b[0;34m*\u001b[0m\u001b[0mms\u001b[0m\u001b[0;34m\u001b[0m\u001b[0;34m\u001b[0m\u001b[0m\n",
      "\u001b[0;31mModuleNotFoundError\u001b[0m: No module named 'brian2'"
     ]
    }
   ],
   "source": [
    "!pip install brian2\n",
    "#Step - 1 Start\n",
    "import brian2\n",
    "import numpy as np\n",
    "import matplotlib as plt\n",
    "tau=10*ms\n",
    "v_rest=-80*mV\n",
    "v_thr=-60*mV\n",
    "v_re=-80*mV\n",
    "i_in=2.5*nA\n",
    "D_E='''\n",
    "R : ohm\n",
    "dv/dt = -(v-v_rest+(i_in*R)/tau: volt (unless refractory)\n",
    "'''\n",
    "#Step - 1 Ends\n",
    "#Step - 2 Starts\n",
    "neuron=NeuronGroup(1, D_E, threshold='''v>v_thr''', reset='''v=v_re''', refractory=5*ms)\n",
    "neuron.v=v_rest\n",
    "neuron.R=1*Kohm\n",
    "#Step-2 Ends\n",
    "#Step-3 Starts\n",
    "spike=SpikeMonitor(neuron)\n",
    "potential=StateMonitor(neuron,'v',True)\n",
    "run(200*ms)\n",
    "#Step-3 Ends\n",
    "#Step-4 Starts\n",
    "pot_var= np.var(potential[0])\n",
    "spike_var=np.var(spike[0])\n",
    "\n",
    "plt.bar(['Membrane Potential','Spike'],[pot_var/mV**2, spike_var])\n",
    "\n",
    "plt.ylabel('Variances')\n",
    "plt.show()\n",
    "#Step -4 Ends\n",
    "\n"
   ]
  },
  {
   "cell_type": "code",
   "execution_count": null,
   "metadata": {},
   "outputs": [],
   "source": []
  }
 ],
 "metadata": {
  "kernelspec": {
   "display_name": "Python 3",
   "language": "python",
   "name": "python3"
  },
  "language_info": {
   "codemirror_mode": {
    "name": "ipython",
    "version": 3
   },
   "file_extension": ".py",
   "mimetype": "text/x-python",
   "name": "python",
   "nbconvert_exporter": "python",
   "pygments_lexer": "ipython3",
   "version": "3.8.10"
  }
 },
 "nbformat": 4,
 "nbformat_minor": 4
}
